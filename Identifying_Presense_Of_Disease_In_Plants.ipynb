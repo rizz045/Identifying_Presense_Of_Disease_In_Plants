{
  "nbformat": 4,
  "nbformat_minor": 0,
  "metadata": {
    "colab": {
      "provenance": []
    },
    "kernelspec": {
      "name": "python3",
      "display_name": "Python 3"
    },
    "language_info": {
      "name": "python"
    }
  },
  "cells": [
    {
      "cell_type": "markdown",
      "source": [
        "#Objective:\n",
        "A machine learning project that detects the presence of diseases in plants using image data. The model analyzes leaf images to classify whether a plant is healthy or affected by a specific disease, helping support early detection and agricultural health monitoring."
      ],
      "metadata": {
        "id": "Wdbjr_KulpId"
      }
    },
    {
      "cell_type": "markdown",
      "source": [
        "#Column Details:\n",
        "* **temperature:** Measured in degrees Celsius\n",
        "* **humidity**: Measured as percentage\n",
        "* **rainfall**: Measured in millimeters\n",
        "* **soil_pH**: Acidity/alkalinity measurement\n",
        "* **disease_present**: Binary label (0 = healthy, 1 = diseased)\n"
      ],
      "metadata": {
        "id": "R0SfUCwultmS"
      }
    },
    {
      "cell_type": "code",
      "execution_count": 1,
      "metadata": {
        "id": "8hIK0S3kkqMB"
      },
      "outputs": [],
      "source": [
        "import numpy as np\n",
        "import seaborn as sns\n",
        "import matplotlib.pyplot as plt\n",
        "import pandas as pd"
      ]
    },
    {
      "cell_type": "code",
      "source": [],
      "metadata": {
        "id": "7KUYPxDOk7ir"
      },
      "execution_count": null,
      "outputs": []
    }
  ]
}